{
 "cells": [
  {
   "cell_type": "markdown",
   "metadata": {},
   "source": [
    "# Author: Lucas Spitzer\n",
    "# Date: 2/25/2024"
   ]
  },
  {
   "cell_type": "code",
   "execution_count": 3,
   "metadata": {},
   "outputs": [
    {
     "data": {
      "text/html": [
       "<div>\n",
       "<style scoped>\n",
       "    .dataframe tbody tr th:only-of-type {\n",
       "        vertical-align: middle;\n",
       "    }\n",
       "\n",
       "    .dataframe tbody tr th {\n",
       "        vertical-align: top;\n",
       "    }\n",
       "\n",
       "    .dataframe thead th {\n",
       "        text-align: right;\n",
       "    }\n",
       "</style>\n",
       "<table border=\"1\" class=\"dataframe\">\n",
       "  <thead>\n",
       "    <tr style=\"text-align: right;\">\n",
       "      <th></th>\n",
       "      <th>Timestamp</th>\n",
       "      <th>Which course are you enrolled in?</th>\n",
       "      <th>Awareness - Website</th>\n",
       "      <th>Awareness - Social Media</th>\n",
       "      <th>Awareness - Community Event</th>\n",
       "      <th>Awareness - Family or Friend</th>\n",
       "      <th>Awareness - Current Student</th>\n",
       "      <th>Awareness - Alumni</th>\n",
       "      <th>Awareness - High School Teacher</th>\n",
       "      <th>Awareness - High School Counselor</th>\n",
       "      <th>...</th>\n",
       "      <th>Computing Info Sources - CCM Admissions</th>\n",
       "      <th>Computing Info Sources - CCM Advisor</th>\n",
       "      <th>Computing Info Sources - Employer</th>\n",
       "      <th>Computing Info Sources - CCM Workforce Development</th>\n",
       "      <th>Computing Info Sources - NJ Workforce Development Program</th>\n",
       "      <th>Computing Info Sources - Other</th>\n",
       "      <th>Computing Major Choice</th>\n",
       "      <th>Gender</th>\n",
       "      <th>Race/ethnicity</th>\n",
       "      <th>Age</th>\n",
       "    </tr>\n",
       "  </thead>\n",
       "  <tbody>\n",
       "    <tr>\n",
       "      <th>0</th>\n",
       "      <td>2023/09/04 5:12:28 PM EST</td>\n",
       "      <td>CMP 239 Internet &amp; Web Page Design</td>\n",
       "      <td>Yes</td>\n",
       "      <td>No</td>\n",
       "      <td>No</td>\n",
       "      <td>Yes</td>\n",
       "      <td>No</td>\n",
       "      <td>No</td>\n",
       "      <td>No</td>\n",
       "      <td>No</td>\n",
       "      <td>...</td>\n",
       "      <td>No</td>\n",
       "      <td>Yes</td>\n",
       "      <td>No</td>\n",
       "      <td>No</td>\n",
       "      <td>No</td>\n",
       "      <td>No</td>\n",
       "      <td>First Choice</td>\n",
       "      <td>Man</td>\n",
       "      <td>Black/African American</td>\n",
       "      <td>35-64</td>\n",
       "    </tr>\n",
       "    <tr>\n",
       "      <th>1</th>\n",
       "      <td>2023/09/04 5:15:24 PM EST</td>\n",
       "      <td>CMP 128 Computer Science I</td>\n",
       "      <td>Yes</td>\n",
       "      <td>Don't recall</td>\n",
       "      <td>No</td>\n",
       "      <td>Yes</td>\n",
       "      <td>No</td>\n",
       "      <td>No</td>\n",
       "      <td>Yes</td>\n",
       "      <td>Don't recall</td>\n",
       "      <td>...</td>\n",
       "      <td>Don't recall</td>\n",
       "      <td>Yes</td>\n",
       "      <td>Yes</td>\n",
       "      <td>No</td>\n",
       "      <td>Don't recall</td>\n",
       "      <td>No</td>\n",
       "      <td>Business</td>\n",
       "      <td>Woman</td>\n",
       "      <td>American Indian/Native American/Alaska Native;...</td>\n",
       "      <td>21-24</td>\n",
       "    </tr>\n",
       "    <tr>\n",
       "      <th>2</th>\n",
       "      <td>2023/09/04 9:19:18 PM EST</td>\n",
       "      <td>CMP 239 Internet &amp; Web Page Design</td>\n",
       "      <td>Yes</td>\n",
       "      <td>Yes</td>\n",
       "      <td>No</td>\n",
       "      <td>Yes</td>\n",
       "      <td>No</td>\n",
       "      <td>No</td>\n",
       "      <td>No</td>\n",
       "      <td>Yes</td>\n",
       "      <td>...</td>\n",
       "      <td>Don't recall</td>\n",
       "      <td>No</td>\n",
       "      <td>Yes</td>\n",
       "      <td>No</td>\n",
       "      <td>No</td>\n",
       "      <td>Yes</td>\n",
       "      <td>First Choice</td>\n",
       "      <td>Woman</td>\n",
       "      <td>Hispanic or Latino</td>\n",
       "      <td>18 and younger</td>\n",
       "    </tr>\n",
       "    <tr>\n",
       "      <th>3</th>\n",
       "      <td>2023/09/04 10:55:07 PM EST</td>\n",
       "      <td>CMP 239 Internet &amp; Web Page Design</td>\n",
       "      <td>Yes</td>\n",
       "      <td>No</td>\n",
       "      <td>No</td>\n",
       "      <td>Yes</td>\n",
       "      <td>No</td>\n",
       "      <td>No</td>\n",
       "      <td>No</td>\n",
       "      <td>No</td>\n",
       "      <td>...</td>\n",
       "      <td>No</td>\n",
       "      <td>No</td>\n",
       "      <td>No</td>\n",
       "      <td>No</td>\n",
       "      <td>No</td>\n",
       "      <td>No</td>\n",
       "      <td>First Choice</td>\n",
       "      <td>Non-binary</td>\n",
       "      <td>White/Caucasian</td>\n",
       "      <td>19-20</td>\n",
       "    </tr>\n",
       "    <tr>\n",
       "      <th>4</th>\n",
       "      <td>2023/09/05 8:53:07 AM EST</td>\n",
       "      <td>CMP 239 Internet &amp; Web Page Design</td>\n",
       "      <td>Yes</td>\n",
       "      <td>No</td>\n",
       "      <td>Don't recall</td>\n",
       "      <td>Yes</td>\n",
       "      <td>Yes</td>\n",
       "      <td>No</td>\n",
       "      <td>Yes</td>\n",
       "      <td>Yes</td>\n",
       "      <td>...</td>\n",
       "      <td>No</td>\n",
       "      <td>No</td>\n",
       "      <td>No</td>\n",
       "      <td>No</td>\n",
       "      <td>No</td>\n",
       "      <td>No</td>\n",
       "      <td>First Choice</td>\n",
       "      <td>Woman</td>\n",
       "      <td>Hispanic or Latino</td>\n",
       "      <td>19-20</td>\n",
       "    </tr>\n",
       "  </tbody>\n",
       "</table>\n",
       "<p>5 rows × 90 columns</p>\n",
       "</div>"
      ],
      "text/plain": [
       "                    Timestamp   Which course are you enrolled in?  \\\n",
       "0   2023/09/04 5:12:28 PM EST  CMP 239 Internet & Web Page Design   \n",
       "1   2023/09/04 5:15:24 PM EST          CMP 128 Computer Science I   \n",
       "2   2023/09/04 9:19:18 PM EST  CMP 239 Internet & Web Page Design   \n",
       "3  2023/09/04 10:55:07 PM EST  CMP 239 Internet & Web Page Design   \n",
       "4   2023/09/05 8:53:07 AM EST  CMP 239 Internet & Web Page Design   \n",
       "\n",
       "  Awareness - Website Awareness - Social Media Awareness - Community Event  \\\n",
       "0                 Yes                       No                          No   \n",
       "1                 Yes             Don't recall                          No   \n",
       "2                 Yes                      Yes                          No   \n",
       "3                 Yes                       No                          No   \n",
       "4                 Yes                       No                Don't recall   \n",
       "\n",
       "  Awareness - Family or Friend Awareness - Current Student Awareness - Alumni  \\\n",
       "0                          Yes                          No                 No   \n",
       "1                          Yes                          No                 No   \n",
       "2                          Yes                          No                 No   \n",
       "3                          Yes                          No                 No   \n",
       "4                          Yes                         Yes                 No   \n",
       "\n",
       "  Awareness - High School Teacher Awareness - High School Counselor  ...  \\\n",
       "0                              No                                No  ...   \n",
       "1                             Yes                      Don't recall  ...   \n",
       "2                              No                               Yes  ...   \n",
       "3                              No                                No  ...   \n",
       "4                             Yes                               Yes  ...   \n",
       "\n",
       "  Computing Info Sources - CCM Admissions  \\\n",
       "0                                      No   \n",
       "1                            Don't recall   \n",
       "2                            Don't recall   \n",
       "3                                      No   \n",
       "4                                      No   \n",
       "\n",
       "  Computing Info Sources - CCM Advisor Computing Info Sources - Employer  \\\n",
       "0                                  Yes                                No   \n",
       "1                                  Yes                               Yes   \n",
       "2                                   No                               Yes   \n",
       "3                                   No                                No   \n",
       "4                                   No                                No   \n",
       "\n",
       "  Computing Info Sources - CCM Workforce Development  \\\n",
       "0                                                 No   \n",
       "1                                                 No   \n",
       "2                                                 No   \n",
       "3                                                 No   \n",
       "4                                                 No   \n",
       "\n",
       "  Computing Info Sources - NJ Workforce Development Program  \\\n",
       "0                                                 No          \n",
       "1                                       Don't recall          \n",
       "2                                                 No          \n",
       "3                                                 No          \n",
       "4                                                 No          \n",
       "\n",
       "  Computing Info Sources - Other Computing Major Choice      Gender  \\\n",
       "0                             No           First Choice         Man   \n",
       "1                             No               Business       Woman   \n",
       "2                            Yes           First Choice       Woman   \n",
       "3                             No           First Choice  Non-binary   \n",
       "4                             No           First Choice       Woman   \n",
       "\n",
       "                                      Race/ethnicity             Age  \n",
       "0                             Black/African American           35-64  \n",
       "1  American Indian/Native American/Alaska Native;...           21-24  \n",
       "2                                 Hispanic or Latino  18 and younger  \n",
       "3                                    White/Caucasian           19-20  \n",
       "4                                 Hispanic or Latino           19-20  \n",
       "\n",
       "[5 rows x 90 columns]"
      ]
     },
     "execution_count": 3,
     "metadata": {},
     "output_type": "execute_result"
    }
   ],
   "source": [
    "# import cleaned data\n",
    "import pandas as pd\n",
    "import matplotlib.pyplot as plt\n",
    "\n",
    "computing_majors = pd.read_csv('data/computing_majors.csv')\n",
    "computing_majors.head()"
   ]
  },
  {
   "cell_type": "markdown",
   "metadata": {},
   "source": [
    "### Question #1\n",
    "#### Compare the age demographics of the survey over time (2020-2023). What are the changes over time, if any?"
   ]
  },
  {
   "cell_type": "code",
   "execution_count": 8,
   "metadata": {},
   "outputs": [
    {
     "data": {
      "image/png": "[encoded data removed]",
      "text/plain": [
       "<Figure size 1000x1000 with 2 Axes>"
      ]
     },
     "metadata": {},
     "output_type": "display_data"
    }
   ],
   "source": [
    "# Maintenace: Convert the Timestamp column to a datetime objects\n",
    "computing_majors['Timestamp'] = pd.to_datetime(computing_majors['Timestamp'])\n",
    "\n",
    "# Step 1: Extract the year from the Timestamp column\n",
    "computing_majors['Year'] = computing_majors['Timestamp'].dt.year\n",
    "\n",
    "# Step 2: Group the data by year and calculate the age distribution for each year\n",
    "age_distribution = computing_majors.groupby(['Year', 'Age']).size().unstack(fill_value=0)\n",
    "\n",
    "# Step 3: Create a figure with 4 subplots\n",
    "fig, axs = plt.subplots(1, 2, figsize=(10, 10))\n",
    "\n",
    "# Step 4: Plot the bar charts on each subplot\n",
    "years = [2022, 2023]\n",
    "for i, year in enumerate(years):\n",
    "    ax = axs.flatten()[i]\n",
    "    age_distribution.loc[year].plot(kind='bar', ax=ax)\n",
    "    ax.set_title(f'Year {year}')\n",
    "    ax.set_xlabel('Age')\n",
    "    ax.set_ylabel('Count')\n",
    "\n",
    "# Step 5: Display the plots\n",
    "plt.tight_layout()\n"
   ]
  },
  {
   "cell_type": "markdown",
   "metadata": {},
   "source": [
    "##### The large difference from 2022 to 2023 was a substantial growth of students from ages 25-34"
   ]
  },
  {
   "cell_type": "markdown",
   "metadata": {},
   "source": [
    "### Question #2\n",
    "#### What is the interest level for taking another computing class? Show a bar chart."
   ]
  },
  {
   "cell_type": "markdown",
   "metadata": {},
   "source": [
    "##### * It must be noted I removed the interest level column from the original files because they contained so many NaN / null values. I will import the old csv files to respond to this question. *"
   ]
  },
  {
   "cell_type": "code",
   "execution_count": 28,
   "metadata": {},
   "outputs": [
    {
     "data": {
      "image/png": "[encoded data removed]",
      "text/plain": [
       "<Figure size 640x480 with 1 Axes>"
      ]
     },
     "metadata": {},
     "output_type": "display_data"
    }
   ],
   "source": [
    "# Read in all survey results files\n",
    "majors_2023 = pd.read_csv('data/Majors Survey Results - Fall 2023.csv')\n",
    "majors_2022 = pd.read_csv('data/Majors Survey Results - Fall 2022.csv')\n",
    "majors_2021 = pd.read_csv('data/Majors Survey Results - Fall 2021.csv') \n",
    "majors_2020 = pd.read_csv('data/Majors Survey Results - Fall 2020.csv')\n",
    "\n",
    "# Concatenate the newly formed DataFrames\n",
    "majors = pd.concat([majors_2023, majors_2022, majors_2021, majors_2020])\n",
    "\n",
    "# Create col name to be implemented in the preceeding loop\n",
    "column_name = \"On a scale of 1 to 5, with 1 being not at all interested and 5 being extremely interested, how interested are you in taking more computing classes?\"\n",
    "\n",
    "# Filter out non-numeric values\n",
    "interest_levels = majors[column_name].apply(pd.to_numeric, errors='coerce').dropna()\n",
    "\n",
    "# Count the occurrences of each interest level\n",
    "interest_counts = interest_levels.value_counts().sort_index()\n",
    "\n",
    "# Create a bar chart\n",
    "interest_counts.plot(kind='bar')\n",
    "plt.xlabel('Interest Level')\n",
    "plt.ylabel('Count')\n",
    "plt.title('Interest in Taking More Computing Classes')\n",
    "plt.show()"
   ]
  },
  {
   "cell_type": "markdown",
   "metadata": {},
   "source": [
    "### Question #3\n",
    "#### How do most tech majors learn about CCM's computing programs?"
   ]
  },
  {
   "cell_type": "code",
   "execution_count": 26,
   "metadata": {},
   "outputs": [
    {
     "name": "stdout",
     "output_type": "stream",
     "text": [
      "Percent of students who said yes to each source:\n",
      "Computing Info Sources - High School Guidance Counselor          26.28\n",
      "Computing Info Sources - High School Teacher                     17.31\n",
      "Computing Info Sources - CCM Information Technologies Website    41.03\n",
      "Computing Info Sources - CCM Admissions                          32.69\n",
      "Computing Info Sources - CCM Advisor                             30.77\n",
      "Computing Info Sources - Employer                                 2.88\n",
      "Computing Info Sources - CCM Workforce Development                2.88\n",
      "Computing Info Sources - NJ Workforce Development Program         3.21\n",
      "Computing Info Sources - Other                                   12.50\n",
      "dtype: float64%\n"
     ]
    }
   ],
   "source": [
    "# Step 1: Filtering dataframe to contain only the columns with the computing info sources\n",
    "computing_info_sources_cols = computing_majors.filter(like='Computing Info Sources')\n",
    "\n",
    "# Step 2: Counting the number of students who said yes to each source\n",
    "info_source_counts = computing_info_sources_cols.apply(lambda col: (col == 'Yes').sum())\n",
    "\n",
    "# Step 3: Calculating the percentage of students who said yes to each source\n",
    "info_source_ratios = str(round((info_source_counts / len(computing_majors)) * 100, 2)) + '%'\n",
    "\n",
    "# Step 4: Displaying the percentage of students who said yes to each source\n",
    "print(\"Percent of students who said yes to each source:\")\n",
    "print(info_source_ratios)"
   ]
  },
  {
   "cell_type": "markdown",
   "metadata": {},
   "source": [
    "##### We can conclude most students learn about CCM's computing programs from CCM's inherent resources (Advising, Admissions, Website) and through local high school connections."
   ]
  },
  {
   "cell_type": "markdown",
   "metadata": {},
   "source": [
    "### Question #4\n",
    "#### What motivates CCM computing students to earn tech degrees?"
   ]
  },
  {
   "cell_type": "code",
   "execution_count": 27,
   "metadata": {},
   "outputs": [
    {
     "name": "stdout",
     "output_type": "stream",
     "text": [
      "Percent of students who said yes to form of motivation:\n",
      "Motivation - Job in Computing Field                  92.95\n",
      "Motivation - Transfer to Bachelor's Level Program    75.96\n",
      "Motivation - Transfer Credits Back to HS Degree      12.18\n",
      "Motivation - Career Advancement                      61.22\n",
      "Motivation - Career Change                           31.73\n",
      "Motivation - Professional Development                62.18\n",
      "Motivation - Job Displacement                        13.14\n",
      "Motivation - Relocation                              15.38\n",
      "Motivation - Keep Current in Tech Industry           52.88\n",
      "Motivation - IT Industry Certifications              52.56\n",
      "Motivation - Financial                               63.14\n",
      "Motivation - Personal Enrichment                     66.35\n",
      "dtype: float64%\n"
     ]
    }
   ],
   "source": [
    "# Step 1: Filtering dataframe to contain only the columns with types of motivation\n",
    "computing_motivation_cols = computing_majors.filter(like='Motivation')\n",
    "\n",
    "# Step 2: Counting the number of students who said yes to each form of motivation\n",
    "motivation_counts = computing_motivation_cols.apply(lambda col: (col == 'Yes').sum())\n",
    "\n",
    "# Step 3: Calculating the percentage of students who said yes to each form of motivation\n",
    "motivation_ratios = str(round((motivation_counts / len(computing_majors)) * 100, 2)) + '%'\n",
    "\n",
    "# Step 4: Displaying the percentage of students who said yes to each form of motivation\n",
    "print(\"Percent of students who said yes to form of motivation:\")\n",
    "print(motivation_ratios)"
   ]
  },
  {
   "cell_type": "markdown",
   "metadata": {},
   "source": [
    "##### Based on the analysis above, of the many reasons to earn a degree in computing, students are primarily incentivzed through personal growth (academic and/or financial)."
   ]
  }
 ],
 "metadata": {
  "kernelspec": {
   "display_name": "Python 3",
   "language": "python",
   "name": "python3"
  },
  "language_info": {
   "codemirror_mode": {
    "name": "ipython",
    "version": 3
   },
   "file_extension": ".py",
   "mimetype": "text/x-python",
   "name": "python",
   "nbconvert_exporter": "python",
   "pygments_lexer": "ipython3",
   "version": "3.11.8"
  }
 },
 "nbformat": 4,
 "nbformat_minor": 2
}
